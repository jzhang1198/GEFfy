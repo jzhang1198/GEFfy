{
 "cells": [
  {
   "cell_type": "code",
   "execution_count": null,
   "metadata": {},
   "outputs": [],
   "source": [
    "import pandas as pd\n",
    "from GEFfy.gef_fitter import GefFitter\n",
    "\n",
    "# load data\n",
    "data = pd.read_csv('./GEF_FRET_assay.csv')\n",
    "data_index = pd.read_csv('./data_index.csv')\n",
    "\n",
    "# construct a GefFitter object\n",
    "gef_fitter_experimental = GefFitter(data, data_index)\n",
    "\n",
    "# fit the initial rates according to data_index.csv\n",
    "gef_fitter_experimental.fit_initial_rates(plot=True, initial_guess_and_constraints=True, height_per_plot=5, width_per_plot=5)\n",
    "\n",
    "# fit the conversion factor\n",
    "gef_fitter_experimental.fit_conversion_factor(plot=True)\n",
    "\n",
    "# fit a Michaelis-Menten model to the initial rate data\n",
    "gef_fitter_experimental.fit_michaelis_menten(plot=True)\n",
    "\n",
    "# evaluate constraint of the fits with a SSE surface\n",
    "gef_fitter_experimental.generate_sse_surfaces_MM(plot=True, height_per_plot=5, width_per_plot=5)"
   ]
  },
  {
   "cell_type": "code",
   "execution_count": null,
   "metadata": {},
   "outputs": [],
   "source": []
  }
 ],
 "metadata": {
  "kernelspec": {
   "display_name": "GEFfy",
   "language": "python",
   "name": "python3"
  },
  "language_info": {
   "codemirror_mode": {
    "name": "ipython",
    "version": 3
   },
   "file_extension": ".py",
   "mimetype": "text/x-python",
   "name": "python",
   "nbconvert_exporter": "python",
   "pygments_lexer": "ipython3",
   "version": "3.8.8"
  },
  "orig_nbformat": 4
 },
 "nbformat": 4,
 "nbformat_minor": 2
}
